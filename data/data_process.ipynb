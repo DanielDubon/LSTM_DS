{
 "cells": [
  {
   "cell_type": "code",
   "execution_count": 3,
   "id": "abe34a73-7291-48ad-b1bb-2b0429d20842",
   "metadata": {},
   "outputs": [],
   "source": [
    "import os\n",
    "import pandas as pd\n",
    "\n",
    "xls = './Estadisticas_historicas_comercializacion (1).xlsx'\n",
    "\n",
    "os.makedirs('data', exist_ok=True)\n",
    "\n",
    "df_con = pd.read_excel(\n",
    "    xls,\n",
    "    sheet_name='CONSUMO',\n",
    "    engine='openpyxl',\n",
    ")\n",
    "\n",
    "df_imp = pd.read_excel(\n",
    "    xls,\n",
    "    sheet_name='IMPORTACION',\n",
    "    engine='openpyxl',\n",
    ")\n",
    "\n",
    "df_imp.to_csv('importacion.csv', index=False, encoding='utf-8-sig')\n",
    "df_con.to_csv('consumo.csv',    index=False, encoding='utf-8-sig')\n"
   ]
  },
  {
   "cell_type": "code",
   "execution_count": 4,
   "id": "d11975d4-2e90-4b04-951e-769125f45126",
   "metadata": {},
   "outputs": [],
   "source": [
    "xls = './IMPORTACION-HIDROCARBUROS-VOLUMEN-2025-05 (1).xlsx'\n",
    "\n",
    "os.makedirs('data', exist_ok=True)\n",
    "\n",
    "skip_top = 6\n",
    "skip_bottom = 3\n",
    "\n",
    "df_imp = pd.read_excel(\n",
    "    xls,\n",
    "    sheet_name='IMPORTACION',\n",
    "    engine='openpyxl',\n",
    "    skiprows=skip_top,\n",
    "    skipfooter=skip_bottom\n",
    ")\n",
    "\n",
    "\n",
    "df_imp.to_csv('importacion2025.csv', index=False, encoding='utf-8-sig')"
   ]
  },
  {
   "cell_type": "code",
   "execution_count": null,
   "id": "e7d13a30-cac2-4f61-883c-fd64311a3fd4",
   "metadata": {},
   "outputs": [],
   "source": []
  }
 ],
 "metadata": {
  "kernelspec": {
   "display_name": "Python 3 (ipykernel)",
   "language": "python",
   "name": "python3"
  },
  "language_info": {
   "codemirror_mode": {
    "name": "ipython",
    "version": 3
   },
   "file_extension": ".py",
   "mimetype": "text/x-python",
   "name": "python",
   "nbconvert_exporter": "python",
   "pygments_lexer": "ipython3",
   "version": "3.10.12"
  }
 },
 "nbformat": 4,
 "nbformat_minor": 5
}
